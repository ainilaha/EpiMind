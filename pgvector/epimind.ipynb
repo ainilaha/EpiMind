{
 "cells": [
  {
   "cell_type": "markdown",
   "id": "0ba470be-5abd-4a14-afc1-e6970ae94762",
   "metadata": {},
   "source": [
    "## Find the Docker Images\n",
    "The `pgvector` docker image can be found [pgvector image](https://hub.docker.com/r/pgvector/pgvector/tags), and pull the specific version of the image.\n",
    "\n",
    "More details about the `pgvector` can be found on the [git repo](https://github.com/pgvector/pgvector)."
   ]
  },
  {
   "cell_type": "markdown",
   "id": "e75c795b-cae5-4e30-92c3-ae142e1142b4",
   "metadata": {},
   "source": [
    "## Setup the Docker\n",
    "\n",
    "we can create a volume to store the data on local machine with:\n",
    "\n",
    "`docker volume create pgvector-data`\n",
    "\n",
    "Then start the docker container with:\n",
    "\n",
    "```Dockerfile\n",
    "docker \\\n",
    "    run \\\n",
    "        --name epimind \\\n",
    "        -d \\\n",
    "        -v <YOUR LOCAL CODE PATH>:/root/ \\\n",
    "        -p 5432:5432 \\\n",
    "        -p 8888:8888 \\\n",
    "        -e POSTGRES_PASSWORD=password \\\n",
    "        ainilaha/epimind:latest\n",
    "```\n",
    "\n",
    "There is `epmind_db` in the docker.\n"
   ]
  },
  {
   "cell_type": "markdown",
   "id": "c1a4422c-9260-4bf8-abf2-3cb985859959",
   "metadata": {},
   "source": [
    "## Try with Python\n",
    "we can try\n",
    "[`pgvector-python`](https://github.com/pgvector/pgvector-python/tree/master) as provided with vector db examples.\n",
    "\n"
   ]
  },
  {
   "cell_type": "markdown",
   "id": "c64f4523-c001-4fd2-b860-65ccadc25162",
   "metadata": {},
   "source": [
    "#### Sentence embeddings with SentenceTransformers\n",
    "\n",
    "Adapted from [Example](https://github.com/pgvector/pgvector-python/blob/master/examples/sentence_transformers/example.py)"
   ]
  },
  {
   "cell_type": "code",
   "execution_count": 3,
   "id": "a6ce5699-2a7c-406f-86ff-b8d398b5f0c1",
   "metadata": {},
   "outputs": [
    {
     "data": {
      "text/plain": [
       "<psycopg.Cursor [COMMAND_OK] [IDLE] (host=localhost user=postgres database=epimind_db) at 0xffff7482c590>"
      ]
     },
     "execution_count": 3,
     "metadata": {},
     "output_type": "execute_result"
    }
   ],
   "source": [
    "from pgvector.psycopg import register_vector\n",
    "import psycopg\n",
    "conn = psycopg.connect(dbname='epimind_db', \n",
    "                       user=\"postgres\",\n",
    "                       password=\"password\",\n",
    "                       host=\"localhost\",\n",
    "                       port=5432,\n",
    "                       autocommit=True)\n",
    "\n",
    "conn.execute('CREATE EXTENSION IF NOT EXISTS vector')\n",
    "register_vector(conn)\n",
    "\n",
    "conn.execute('DROP TABLE IF EXISTS documents')\n",
    "conn.execute('CREATE TABLE documents (id bigserial PRIMARY KEY, content text, embedding vector(384))')"
   ]
  },
  {
   "cell_type": "code",
   "execution_count": 5,
   "id": "1f6e22a9-ca6a-47ce-849d-f491b238031a",
   "metadata": {},
   "outputs": [
    {
     "data": {
      "application/vnd.jupyter.widget-view+json": {
       "model_id": "65948f9b4d6a467088f07e90c7eb5888",
       "version_major": 2,
       "version_minor": 0
      },
      "text/plain": [
       "modules.json:   0%|          | 0.00/349 [00:00<?, ?B/s]"
      ]
     },
     "metadata": {},
     "output_type": "display_data"
    },
    {
     "data": {
      "application/vnd.jupyter.widget-view+json": {
       "model_id": "82e845547e0e4e1f8d23d8ef7eb73b47",
       "version_major": 2,
       "version_minor": 0
      },
      "text/plain": [
       "config_sentence_transformers.json:   0%|          | 0.00/116 [00:00<?, ?B/s]"
      ]
     },
     "metadata": {},
     "output_type": "display_data"
    },
    {
     "data": {
      "application/vnd.jupyter.widget-view+json": {
       "model_id": "a37da9e1945046e790449f1f52152e80",
       "version_major": 2,
       "version_minor": 0
      },
      "text/plain": [
       "README.md:   0%|          | 0.00/10.7k [00:00<?, ?B/s]"
      ]
     },
     "metadata": {},
     "output_type": "display_data"
    },
    {
     "data": {
      "application/vnd.jupyter.widget-view+json": {
       "model_id": "30ec4bdd15bd494d9fc30929dd33027c",
       "version_major": 2,
       "version_minor": 0
      },
      "text/plain": [
       "sentence_bert_config.json:   0%|          | 0.00/53.0 [00:00<?, ?B/s]"
      ]
     },
     "metadata": {},
     "output_type": "display_data"
    },
    {
     "data": {
      "application/vnd.jupyter.widget-view+json": {
       "model_id": "9bc7f95164e444078056df35d98fd4e9",
       "version_major": 2,
       "version_minor": 0
      },
      "text/plain": [
       "config.json:   0%|          | 0.00/612 [00:00<?, ?B/s]"
      ]
     },
     "metadata": {},
     "output_type": "display_data"
    },
    {
     "data": {
      "application/vnd.jupyter.widget-view+json": {
       "model_id": "26861066791f457889136247b9670073",
       "version_major": 2,
       "version_minor": 0
      },
      "text/plain": [
       "model.safetensors:   0%|          | 0.00/90.9M [00:00<?, ?B/s]"
      ]
     },
     "metadata": {},
     "output_type": "display_data"
    },
    {
     "data": {
      "application/vnd.jupyter.widget-view+json": {
       "model_id": "223520e0c70f4502baa5049364e6981a",
       "version_major": 2,
       "version_minor": 0
      },
      "text/plain": [
       "tokenizer_config.json:   0%|          | 0.00/350 [00:00<?, ?B/s]"
      ]
     },
     "metadata": {},
     "output_type": "display_data"
    },
    {
     "data": {
      "application/vnd.jupyter.widget-view+json": {
       "model_id": "f3205502415a4f9483214932edebb959",
       "version_major": 2,
       "version_minor": 0
      },
      "text/plain": [
       "vocab.txt:   0%|          | 0.00/232k [00:00<?, ?B/s]"
      ]
     },
     "metadata": {},
     "output_type": "display_data"
    },
    {
     "data": {
      "application/vnd.jupyter.widget-view+json": {
       "model_id": "19e7866916094108ae7cedb560d85ac3",
       "version_major": 2,
       "version_minor": 0
      },
      "text/plain": [
       "tokenizer.json:   0%|          | 0.00/466k [00:00<?, ?B/s]"
      ]
     },
     "metadata": {},
     "output_type": "display_data"
    },
    {
     "data": {
      "application/vnd.jupyter.widget-view+json": {
       "model_id": "cd568d61904649aea160fd1626fd0c34",
       "version_major": 2,
       "version_minor": 0
      },
      "text/plain": [
       "special_tokens_map.json:   0%|          | 0.00/112 [00:00<?, ?B/s]"
      ]
     },
     "metadata": {},
     "output_type": "display_data"
    },
    {
     "data": {
      "application/vnd.jupyter.widget-view+json": {
       "model_id": "ffe0525642874ebdab5012cdc4508d3d",
       "version_major": 2,
       "version_minor": 0
      },
      "text/plain": [
       "1_Pooling/config.json:   0%|          | 0.00/190 [00:00<?, ?B/s]"
      ]
     },
     "metadata": {},
     "output_type": "display_data"
    }
   ],
   "source": [
    "from sentence_transformers import SentenceTransformer\n",
    "\n",
    "model = SentenceTransformer(\"all-MiniLM-L6-v2\")"
   ]
  },
  {
   "cell_type": "code",
   "execution_count": 6,
   "id": "df903c4e-a7c5-4427-94d7-14afafe342a0",
   "metadata": {},
   "outputs": [],
   "source": [
    "corpus = [\n",
    " 'Aromatic amines are quantified by an isotope-dilution gas chromatographic',\n",
    "'tandem mass spectrometric method (ID GC-MS/MS). Urine samples are collected',\n",
    "'and stored at approximately -70±10°C. 13C and 2H internal standards are added',\n",
    "'and the samples are hydrolyzed, cleaned up, and extracted on support liquid extraction (SLE) cartridges.',  \n",
    "'The analytes are then derivatized to form pentafluoropropionamides, and analyzed by GC/MS/MS, using multiple reaction monitoring (MRM).',\n",
    "'The analyte concentrations are derived from the ratio of the integrated peaks of native to labeled ions by comparison to a standard curve.'\n",
    "]\n",
    "embeddings = model.encode(corpus)"
   ]
  },
  {
   "cell_type": "code",
   "execution_count": 7,
   "id": "8cd33273-ef20-4917-9fff-163dfcb738d5",
   "metadata": {},
   "outputs": [
    {
     "name": "stdout",
     "output_type": "stream",
     "text": [
      "The analytes are then derivatized to form pentafluoropropionamides, and analyzed by GC/MS/MS, using multiple reaction monitoring (MRM).\n",
      "The analyte concentrations are derived from the ratio of the integrated peaks of native to labeled ions by comparison to a standard curve.\n",
      "tandem mass spectrometric method (ID GC-MS/MS). Urine samples are collected\n",
      "and the samples are hydrolyzed, cleaned up, and extracted on support liquid extraction (SLE) cartridges.\n",
      "and stored at approximately -70±10°C. 13C and 2H internal standards are added\n"
     ]
    }
   ],
   "source": [
    "for content, embedding in zip(corpus, embeddings):\n",
    "    conn.execute('INSERT INTO documents (content, embedding) VALUES (%s, %s)', (content, embedding))\n",
    "\n",
    "document_id = 1\n",
    "neighbors = conn.execute('SELECT content FROM documents WHERE id != %(id)s ORDER BY embedding <=> (SELECT embedding FROM documents WHERE id = %(id)s) LIMIT 5', {'id': document_id}).fetchall()\n",
    "for neighbor in neighbors:\n",
    "    print(neighbor[0])"
   ]
  },
  {
   "cell_type": "code",
   "execution_count": 8,
   "id": "b1fae837-80ef-43f0-a4b4-30927191dcdf",
   "metadata": {},
   "outputs": [
    {
     "data": {
      "text/html": [
       "<div>\n",
       "<style scoped>\n",
       "    .dataframe tbody tr th:only-of-type {\n",
       "        vertical-align: middle;\n",
       "    }\n",
       "\n",
       "    .dataframe tbody tr th {\n",
       "        vertical-align: top;\n",
       "    }\n",
       "\n",
       "    .dataframe thead th {\n",
       "        text-align: right;\n",
       "    }\n",
       "</style>\n",
       "<table border=\"1\" class=\"dataframe\">\n",
       "  <thead>\n",
       "    <tr style=\"text-align: right;\">\n",
       "      <th></th>\n",
       "      <th>ID</th>\n",
       "      <th>Text</th>\n",
       "      <th>Vector</th>\n",
       "    </tr>\n",
       "  </thead>\n",
       "  <tbody>\n",
       "    <tr>\n",
       "      <th>0</th>\n",
       "      <td>1</td>\n",
       "      <td>Aromatic amines are quantified by an isotope-d...</td>\n",
       "      <td>[0.045202095, 0.0030057423, -0.022150079, -0.0...</td>\n",
       "    </tr>\n",
       "    <tr>\n",
       "      <th>1</th>\n",
       "      <td>2</td>\n",
       "      <td>tandem mass spectrometric method (ID GC-MS/MS)...</td>\n",
       "      <td>[-0.011899977, 0.010701008, -0.034384813, 0.00...</td>\n",
       "    </tr>\n",
       "    <tr>\n",
       "      <th>2</th>\n",
       "      <td>3</td>\n",
       "      <td>and stored at approximately -70±10°C. 13C and ...</td>\n",
       "      <td>[-0.019950543, 0.0040108133, -0.12060646, 0.04...</td>\n",
       "    </tr>\n",
       "    <tr>\n",
       "      <th>3</th>\n",
       "      <td>4</td>\n",
       "      <td>and the samples are hydrolyzed, cleaned up, an...</td>\n",
       "      <td>[-0.06613452, -0.017036635, -0.04517958, -0.04...</td>\n",
       "    </tr>\n",
       "    <tr>\n",
       "      <th>4</th>\n",
       "      <td>5</td>\n",
       "      <td>The analytes are then derivatized to form pent...</td>\n",
       "      <td>[0.025159566, -0.1588463, -0.08782749, 0.02154...</td>\n",
       "    </tr>\n",
       "  </tbody>\n",
       "</table>\n",
       "</div>"
      ],
      "text/plain": [
       "   ID                                               Text  \\\n",
       "0   1  Aromatic amines are quantified by an isotope-d...   \n",
       "1   2  tandem mass spectrometric method (ID GC-MS/MS)...   \n",
       "2   3  and stored at approximately -70±10°C. 13C and ...   \n",
       "3   4  and the samples are hydrolyzed, cleaned up, an...   \n",
       "4   5  The analytes are then derivatized to form pent...   \n",
       "\n",
       "                                              Vector  \n",
       "0  [0.045202095, 0.0030057423, -0.022150079, -0.0...  \n",
       "1  [-0.011899977, 0.010701008, -0.034384813, 0.00...  \n",
       "2  [-0.019950543, 0.0040108133, -0.12060646, 0.04...  \n",
       "3  [-0.06613452, -0.017036635, -0.04517958, -0.04...  \n",
       "4  [0.025159566, -0.1588463, -0.08782749, 0.02154...  "
      ]
     },
     "execution_count": 8,
     "metadata": {},
     "output_type": "execute_result"
    }
   ],
   "source": [
    "import pandas as pd\n",
    "res = conn.execute(\"Select * from documents\")\n",
    "df = pd.DataFrame(res.fetchall(), columns=['ID', 'Text', 'Vector'])\n",
    "df.head()"
   ]
  },
  {
   "cell_type": "code",
   "execution_count": 9,
   "id": "e514a912-7722-4247-8e58-339bd4844287",
   "metadata": {},
   "outputs": [],
   "source": [
    "conn.close()"
   ]
  },
  {
   "cell_type": "code",
   "execution_count": null,
   "id": "b6103d04-4c95-4bc0-b0cf-bc995c81d6a5",
   "metadata": {},
   "outputs": [],
   "source": []
  }
 ],
 "metadata": {
  "kernelspec": {
   "display_name": "Python 3 (ipykernel)",
   "language": "python",
   "name": "python3"
  },
  "language_info": {
   "codemirror_mode": {
    "name": "ipython",
    "version": 3
   },
   "file_extension": ".py",
   "mimetype": "text/x-python",
   "name": "python",
   "nbconvert_exporter": "python",
   "pygments_lexer": "ipython3",
   "version": "3.12.7"
  }
 },
 "nbformat": 4,
 "nbformat_minor": 5
}
