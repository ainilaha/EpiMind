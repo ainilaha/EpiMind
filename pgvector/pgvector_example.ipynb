{
 "cells": [
  {
   "cell_type": "markdown",
   "id": "0ba470be-5abd-4a14-afc1-e6970ae94762",
   "metadata": {},
   "source": [
    "## Find the Docker Images\n",
    "The `pgvector` docker image can be found [pgvector image](https://hub.docker.com/r/pgvector/pgvector/tags), and pull the specific version of the image.\n",
    "\n",
    "More details about the `pgvector` can be found on the [git repo](https://github.com/pgvector/pgvector)."
   ]
  },
  {
   "cell_type": "markdown",
   "id": "e75c795b-cae5-4e30-92c3-ae142e1142b4",
   "metadata": {},
   "source": [
    "## Setup the Docker\n",
    "\n",
    "we can create a volume to store the data on local machine with:\n",
    "\n",
    "`docker volume create pgvector-data`\n",
    "\n",
    "Then start the docker container with:\n",
    "\n",
    "```Dockerfile\n",
    "docker \\\n",
    "    run \\\n",
    "        --name pgvector-container \\\n",
    "        -d \\\n",
    "        -v pgvector-data:/var/lib/postgresql/data \\\n",
    "        -p 5432:5432 \\\n",
    "        -e POSTGRES_PASSWORD=test \\\n",
    "        pgvector/pgvector:0.8.0-pg17\n",
    "```\n",
    "\n",
    "I am using `pgvector:0.8.0-pg17` version, but you can choose any version you want.\n",
    "\n",
    "Note that can simply mount a local path to the container instead of creating a volume.\n"
   ]
  },
  {
   "attachments": {},
   "cell_type": "markdown",
   "id": "c84bb6a7-5264-4fee-a71d-18b928262e18",
   "metadata": {},
   "source": [
    "## Connnect to the DB\n",
    "\n",
    "Check if the port `5432` is open and listening:\n",
    "\n",
    "`lsof -i :5432 `\n",
    "\n",
    "Connect to the DB with [pgAdmin](https://www.pgadmin.org/)\n",
    "\n",
    "Right clicker on the `Servers` and choose `Register`\n",
    "Then\n",
    "![epimind](images/epimind.jpg)\n",
    "![pgadminconn](images/pgadminconn.jpg)\n",
    "\n",
    "**The password is set as `test` in the above command.**\n",
    "\n",
    "![pgAdmin](images/pgadmin.jpg)"
   ]
  },
  {
   "cell_type": "markdown",
   "id": "c1a4422c-9260-4bf8-abf2-3cb985859959",
   "metadata": {},
   "source": [
    "## Try with Python\n",
    "Although we can connect the DB simply with [`psycopg2`](https://pypi.org/project/psycopg2) （with `pip install psycopg2`）, we can also\n",
    "[`pgvector-python`](https://github.com/pgvector/pgvector-python/tree/master) is provided with vector db examples.\n",
    "\n",
    "we can install `pgvector-python` with:\n",
    "\n",
    "`pip install pgvector`\n",
    "\n",
    "`pip install psycopg2`\n"
   ]
  },
  {
   "cell_type": "markdown",
   "id": "961894d9-3a37-4fad-9fb0-e47080a566f1",
   "metadata": {},
   "source": [
    "####  Try with psycopg2"
   ]
  },
  {
   "cell_type": "code",
   "execution_count": null,
   "id": "f3f386bd-9d8b-4f5a-b136-185a13d78750",
   "metadata": {},
   "outputs": [],
   "source": [
    "import psycopg2\n",
    "\n",
    "conn = psycopg2.connect(\n",
    "  database=\"vector_database\",\n",
    "  user=\"postgres\",\n",
    "  password=\"password\",\n",
    "  host=\"localhost\",\n",
    "  port=5432\n",
    ")\n"
   ]
  },
  {
   "cell_type": "code",
   "execution_count": null,
   "id": "91551e9f-2232-492e-8dbf-19fa81637b6c",
   "metadata": {},
   "outputs": [],
   "source": [
    "cursor = conn.cursor()"
   ]
  },
  {
   "cell_type": "code",
   "execution_count": null,
   "id": "52c46104-0681-4be6-847e-54f54fe0029c",
   "metadata": {},
   "outputs": [],
   "source": [
    "cursor.execute(f\"SELECT * FROM items ORDER BY embedding <-> '[3,1,2]' LIMIT 5;\")\n",
    "result = cursor.fetchall()\n",
    "result"
   ]
  },
  {
   "cell_type": "code",
   "execution_count": null,
   "id": "69f37c14-ce86-49cb-9f20-9c348d7ea1de",
   "metadata": {},
   "outputs": [],
   "source": [
    "conn.close()"
   ]
  },
  {
   "cell_type": "markdown",
   "id": "c64f4523-c001-4fd2-b860-65ccadc25162",
   "metadata": {},
   "source": [
    "#### Sentence embeddings with SentenceTransformers\n",
    "\n",
    "Adapted from [Example](https://github.com/pgvector/pgvector-python/blob/master/examples/sentence_transformers/example.py)\n",
    "\n",
    "`pip install -U sentence-transformers`"
   ]
  },
  {
   "cell_type": "code",
   "execution_count": 5,
   "id": "a6ce5699-2a7c-406f-86ff-b8d398b5f0c1",
   "metadata": {},
   "outputs": [
    {
     "data": {
      "text/plain": [
       "<psycopg.Cursor [COMMAND_OK] [IDLE] (host=localhost user=postgres database=vector_database) at 0x1069fbc50>"
      ]
     },
     "execution_count": 5,
     "metadata": {},
     "output_type": "execute_result"
    }
   ],
   "source": [
    "from pgvector.psycopg import register_vector\n",
    "import psycopg\n",
    "conn = psycopg.connect(dbname='vector_database', \n",
    "                       user=\"postgres\",\n",
    "                      password=\"password\",\n",
    "                      host=\"localhost\",\n",
    "                      port=5432,\n",
    "                       autocommit=True)\n",
    "\n",
    "conn.execute('CREATE EXTENSION IF NOT EXISTS vector')\n",
    "register_vector(conn)\n",
    "\n",
    "conn.execute('DROP TABLE IF EXISTS documents')\n",
    "conn.execute('CREATE TABLE documents (id bigserial PRIMARY KEY, content text, embedding vector(384))')"
   ]
  },
  {
   "cell_type": "code",
   "execution_count": 6,
   "id": "1f6e22a9-ca6a-47ce-849d-f491b238031a",
   "metadata": {},
   "outputs": [
    {
     "name": "stderr",
     "output_type": "stream",
     "text": [
      "/Users/lahaale/anaconda3/lib/python3.12/site-packages/sentence_transformers/cross_encoder/CrossEncoder.py:13: TqdmExperimentalWarning: Using `tqdm.autonotebook.tqdm` in notebook mode. Use `tqdm.tqdm` instead to force console mode (e.g. in jupyter console)\n",
      "  from tqdm.autonotebook import tqdm, trange\n"
     ]
    }
   ],
   "source": [
    "from sentence_transformers import SentenceTransformer\n",
    "\n",
    "model = SentenceTransformer(\"all-MiniLM-L6-v2\")"
   ]
  },
  {
   "cell_type": "code",
   "execution_count": 7,
   "id": "df903c4e-a7c5-4427-94d7-14afafe342a0",
   "metadata": {},
   "outputs": [],
   "source": [
    "corpus = [\n",
    " 'Aromatic amines are quantified by an isotope-dilution gas chromatographic',\n",
    "'tandem mass spectrometric method (ID GC-MS/MS). Urine samples are collected',\n",
    "'and stored at approximately -70±10°C. 13C and 2H internal standards are added',\n",
    "'and the samples are hydrolyzed, cleaned up, and extracted on support liquid extraction (SLE) cartridges.',  \n",
    "'The analytes are then derivatized to form pentafluoropropionamides, and analyzed by GC/MS/MS, using multiple reaction monitoring (MRM).',\n",
    "'The analyte concentrations are derived from the ratio of the integrated peaks of native to labeled ions by comparison to a standard curve.'\n",
    "]\n",
    "embeddings = model.encode(corpus)"
   ]
  },
  {
   "cell_type": "code",
   "execution_count": 8,
   "id": "8cd33273-ef20-4917-9fff-163dfcb738d5",
   "metadata": {},
   "outputs": [
    {
     "name": "stdout",
     "output_type": "stream",
     "text": [
      "The analytes are then derivatized to form pentafluoropropionamides, and analyzed by GC/MS/MS, using multiple reaction monitoring (MRM).\n",
      "The analyte concentrations are derived from the ratio of the integrated peaks of native to labeled ions by comparison to a standard curve.\n",
      "tandem mass spectrometric method (ID GC-MS/MS). Urine samples are collected\n",
      "and the samples are hydrolyzed, cleaned up, and extracted on support liquid extraction (SLE) cartridges.\n",
      "and stored at approximately -70±10°C. 13C and 2H internal standards are added\n"
     ]
    }
   ],
   "source": [
    "for content, embedding in zip(corpus, embeddings):\n",
    "    conn.execute('INSERT INTO documents (content, embedding) VALUES (%s, %s)', (content, embedding))\n",
    "\n",
    "document_id = 1\n",
    "neighbors = conn.execute('SELECT content FROM documents WHERE id != %(id)s ORDER BY embedding <=> (SELECT embedding FROM documents WHERE id = %(id)s) LIMIT 5', {'id': document_id}).fetchall()\n",
    "for neighbor in neighbors:\n",
    "    print(neighbor[0])"
   ]
  },
  {
   "cell_type": "code",
   "execution_count": 9,
   "id": "b1fae837-80ef-43f0-a4b4-30927191dcdf",
   "metadata": {},
   "outputs": [
    {
     "data": {
      "text/html": [
       "<div>\n",
       "<style scoped>\n",
       "    .dataframe tbody tr th:only-of-type {\n",
       "        vertical-align: middle;\n",
       "    }\n",
       "\n",
       "    .dataframe tbody tr th {\n",
       "        vertical-align: top;\n",
       "    }\n",
       "\n",
       "    .dataframe thead th {\n",
       "        text-align: right;\n",
       "    }\n",
       "</style>\n",
       "<table border=\"1\" class=\"dataframe\">\n",
       "  <thead>\n",
       "    <tr style=\"text-align: right;\">\n",
       "      <th></th>\n",
       "      <th>ID</th>\n",
       "      <th>Text</th>\n",
       "      <th>Vector</th>\n",
       "    </tr>\n",
       "  </thead>\n",
       "  <tbody>\n",
       "    <tr>\n",
       "      <th>0</th>\n",
       "      <td>1</td>\n",
       "      <td>Aromatic amines are quantified by an isotope-d...</td>\n",
       "      <td>[0.045202147, 0.0030057812, -0.02215013, -0.05...</td>\n",
       "    </tr>\n",
       "    <tr>\n",
       "      <th>1</th>\n",
       "      <td>2</td>\n",
       "      <td>tandem mass spectrometric method (ID GC-MS/MS)...</td>\n",
       "      <td>[-0.011900019, 0.010700991, -0.03438481, 0.003...</td>\n",
       "    </tr>\n",
       "    <tr>\n",
       "      <th>2</th>\n",
       "      <td>3</td>\n",
       "      <td>and stored at approximately -70±10°C. 13C and ...</td>\n",
       "      <td>[-0.019950623, 0.00401085, -0.120606475, 0.049...</td>\n",
       "    </tr>\n",
       "    <tr>\n",
       "      <th>3</th>\n",
       "      <td>4</td>\n",
       "      <td>and the samples are hydrolyzed, cleaned up, an...</td>\n",
       "      <td>[-0.06613456, -0.017036632, -0.04517956, -0.04...</td>\n",
       "    </tr>\n",
       "    <tr>\n",
       "      <th>4</th>\n",
       "      <td>5</td>\n",
       "      <td>The analytes are then derivatized to form pent...</td>\n",
       "      <td>[0.02515953, -0.15884632, -0.08782755, 0.02154...</td>\n",
       "    </tr>\n",
       "  </tbody>\n",
       "</table>\n",
       "</div>"
      ],
      "text/plain": [
       "   ID                                               Text  \\\n",
       "0   1  Aromatic amines are quantified by an isotope-d...   \n",
       "1   2  tandem mass spectrometric method (ID GC-MS/MS)...   \n",
       "2   3  and stored at approximately -70±10°C. 13C and ...   \n",
       "3   4  and the samples are hydrolyzed, cleaned up, an...   \n",
       "4   5  The analytes are then derivatized to form pent...   \n",
       "\n",
       "                                              Vector  \n",
       "0  [0.045202147, 0.0030057812, -0.02215013, -0.05...  \n",
       "1  [-0.011900019, 0.010700991, -0.03438481, 0.003...  \n",
       "2  [-0.019950623, 0.00401085, -0.120606475, 0.049...  \n",
       "3  [-0.06613456, -0.017036632, -0.04517956, -0.04...  \n",
       "4  [0.02515953, -0.15884632, -0.08782755, 0.02154...  "
      ]
     },
     "execution_count": 9,
     "metadata": {},
     "output_type": "execute_result"
    }
   ],
   "source": [
    "import pandas as pd\n",
    "res = conn.execute(\"Select * from documents\")\n",
    "df = pd.DataFrame(res.fetchall(), columns=['ID', 'Text', 'Vector'])\n",
    "df.head()"
   ]
  },
  {
   "cell_type": "code",
   "execution_count": 10,
   "id": "e514a912-7722-4247-8e58-339bd4844287",
   "metadata": {},
   "outputs": [],
   "source": [
    "conn.close()"
   ]
  },
  {
   "cell_type": "code",
   "execution_count": null,
   "id": "b6103d04-4c95-4bc0-b0cf-bc995c81d6a5",
   "metadata": {},
   "outputs": [],
   "source": []
  }
 ],
 "metadata": {
  "kernelspec": {
   "display_name": "Python 3 (ipykernel)",
   "language": "python",
   "name": "python3"
  },
  "language_info": {
   "codemirror_mode": {
    "name": "ipython",
    "version": 3
   },
   "file_extension": ".py",
   "mimetype": "text/x-python",
   "name": "python",
   "nbconvert_exporter": "python",
   "pygments_lexer": "ipython3",
   "version": "3.12.4"
  }
 },
 "nbformat": 4,
 "nbformat_minor": 5
}
