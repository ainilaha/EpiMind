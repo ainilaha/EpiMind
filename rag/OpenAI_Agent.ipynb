{
 "cells": [
  {
   "cell_type": "markdown",
   "id": "0b523e0a",
   "metadata": {},
   "source": [
    "# OpenAI Agent"
   ]
  },
  {
   "cell_type": "markdown",
   "id": "1a323703",
   "metadata": {},
   "source": [
    "## Setup"
   ]
  },
  {
   "cell_type": "code",
   "execution_count": 1,
   "id": "b9625ab2-71b6-4fd0-904e-42df80d3215f",
   "metadata": {
    "ExecuteTime": {
     "end_time": "2024-08-04T03:05:09.899669Z",
     "start_time": "2024-08-04T03:05:09.889632Z"
    },
    "tags": []
   },
   "outputs": [],
   "source": [
    "OPENAI_API_KEY = \"YOUR OPENAI API KEY\"\n",
    "import openai\n",
    "openai.api_key = OPENAI_API_KEY"
   ]
  },
  {
   "cell_type": "code",
   "execution_count": 2,
   "id": "3221a474-5817-4db2-af46-e029042a75a5",
   "metadata": {
    "ExecuteTime": {
     "end_time": "2024-08-04T03:05:09.950601Z",
     "start_time": "2024-08-04T03:05:09.944183Z"
    },
    "tags": []
   },
   "outputs": [],
   "source": [
    "import nest_asyncio\n",
    "nest_asyncio.apply()"
   ]
  },
  {
   "cell_type": "markdown",
   "id": "20adaa26",
   "metadata": {},
   "source": []
  },
  {
   "cell_type": "markdown",
   "id": "48b71ff6",
   "metadata": {},
   "source": [
    "**Note**: The pdf files are included with this lesson. To access these papers, go to the `File` menu and select`Open...`."
   ]
  },
  {
   "cell_type": "code",
   "execution_count": 3,
   "id": "eda61c7901fe7b94",
   "metadata": {},
   "outputs": [
    {
     "data": {
      "text/plain": [
       "['ACQ_D', 'ACQ_E', 'ACQ', 'ACQ_C', 'ACQ_B']"
      ]
     },
     "execution_count": 3,
     "metadata": {},
     "output_type": "execute_result"
    }
   ],
   "source": [
    "import json\n",
    "with open('../data/nhanes_data.json', 'r') as file:\n",
    "    docs = json.load(file)\n",
    "docs_names = [doc['text'] for doc in docs]\n",
    "docs_names[0:5]"
   ]
  },
  {
   "cell_type": "code",
   "execution_count": 4,
   "id": "df921beed41a92ce",
   "metadata": {},
   "outputs": [
    {
     "name": "stdout",
     "output_type": "stream",
     "text": [
      "Getting tools for doc: DEMO\n",
      "Getting tools for doc: DEMO_B\n",
      "Getting tools for doc: DEMO_C\n",
      "Getting tools for doc: BMX\n",
      "Getting tools for doc: BMX_B\n",
      "Getting tools for doc: BMX_C\n",
      "Getting tools for doc: BPX\n",
      "Getting tools for doc: BPX_B\n",
      "Getting tools for doc: BPX_C\n"
     ]
    }
   ],
   "source": [
    "from utils import get_doc_tools\n",
    "from pathlib import Path\n",
    "\n",
    "domo = [\"DEMO\",\"DEMO_B\",\"DEMO_C\",\"BMX\",\"BMX_B\",\"BMX_C\",\"BPX\",\"BPX_B\",\"BPX_C\"] \n",
    "docs_to_tools_dict = {}\n",
    "for doc in domo:\n",
    "    print(f\"Getting tools for doc: {doc}\")\n",
    "    vector_tool, summary_tool = get_doc_tools(doc,Path(\"../data/metadata/{}.md\".format(doc)))\n",
    "    docs_to_tools_dict[doc] = [vector_tool, summary_tool]"
   ]
  },
  {
   "cell_type": "code",
   "execution_count": 5,
   "id": "0e541bdd-14e1-41b6-81b5-b1bfda078d07",
   "metadata": {
    "tags": []
   },
   "outputs": [],
   "source": [
    "all_tools = [t for doc in domo for t in docs_to_tools_dict[doc]]"
   ]
  },
  {
   "cell_type": "code",
   "execution_count": 6,
   "id": "1e016db2-10d8-4a27-8527-2467f1acb659",
   "metadata": {},
   "outputs": [
    {
     "data": {
      "text/plain": [
       "[<llama_index.core.tools.function_tool.FunctionTool at 0x14c997650>,\n",
       " <llama_index.core.tools.query_engine.QueryEngineTool at 0x14dfc3010>,\n",
       " <llama_index.core.tools.function_tool.FunctionTool at 0x14caf9f90>,\n",
       " <llama_index.core.tools.query_engine.QueryEngineTool at 0x14e027250>,\n",
       " <llama_index.core.tools.function_tool.FunctionTool at 0x14cad42d0>,\n",
       " <llama_index.core.tools.query_engine.QueryEngineTool at 0x14e2c5210>,\n",
       " <llama_index.core.tools.function_tool.FunctionTool at 0x14d38bf50>,\n",
       " <llama_index.core.tools.query_engine.QueryEngineTool at 0x14e2c4810>,\n",
       " <llama_index.core.tools.function_tool.FunctionTool at 0x14e2f5010>,\n",
       " <llama_index.core.tools.query_engine.QueryEngineTool at 0x14e902490>,\n",
       " <llama_index.core.tools.function_tool.FunctionTool at 0x14eb38710>,\n",
       " <llama_index.core.tools.query_engine.QueryEngineTool at 0x14eb430d0>,\n",
       " <llama_index.core.tools.function_tool.FunctionTool at 0x14e6448d0>,\n",
       " <llama_index.core.tools.query_engine.QueryEngineTool at 0x14edf6610>,\n",
       " <llama_index.core.tools.function_tool.FunctionTool at 0x14e2c6950>,\n",
       " <llama_index.core.tools.query_engine.QueryEngineTool at 0x14eded510>,\n",
       " <llama_index.core.tools.function_tool.FunctionTool at 0x14f51f990>,\n",
       " <llama_index.core.tools.query_engine.QueryEngineTool at 0x14f510a90>]"
      ]
     },
     "execution_count": 6,
     "metadata": {},
     "output_type": "execute_result"
    }
   ],
   "source": [
    "all_tools"
   ]
  },
  {
   "cell_type": "code",
   "execution_count": 7,
   "id": "bff58c52",
   "metadata": {},
   "outputs": [],
   "source": [
    "from llama_index.llms.openai import OpenAI\n",
    "\n",
    "llm = OpenAI(model=\"gpt-4o-mini\")"
   ]
  },
  {
   "cell_type": "code",
   "execution_count": 8,
   "id": "2f2c6a9f",
   "metadata": {},
   "outputs": [
    {
     "data": {
      "text/plain": [
       "18"
      ]
     },
     "execution_count": 8,
     "metadata": {},
     "output_type": "execute_result"
    }
   ],
   "source": [
    "len(all_tools)"
   ]
  },
  {
   "cell_type": "code",
   "execution_count": 9,
   "id": "671582f9-70d7-4a8f-b813-58b2a068ca72",
   "metadata": {
    "tags": []
   },
   "outputs": [],
   "source": [
    "# define an \"object\" index and retriever over these tools\n",
    "from llama_index.core import VectorStoreIndex\n",
    "from llama_index.core.objects import ObjectIndex\n",
    "\n",
    "obj_index = ObjectIndex.from_objects(\n",
    "    all_tools,\n",
    "    index_cls=VectorStoreIndex,\n",
    ")"
   ]
  },
  {
   "cell_type": "code",
   "execution_count": 10,
   "id": "c3929882-e9dc-46ca-b495-53e3ed60340e",
   "metadata": {
    "tags": []
   },
   "outputs": [],
   "source": [
    "obj_retriever = obj_index.as_retriever(similarity_top_k=3)"
   ]
  },
  {
   "cell_type": "code",
   "execution_count": 11,
   "id": "9cc0a0b6-9858-4348-9ae0-1cd4160f3fb7",
   "metadata": {
    "tags": []
   },
   "outputs": [],
   "source": [
    "from llama_index.core.agent import FunctionCallingAgentWorker\n",
    "from llama_index.core.agent import AgentRunner\n",
    "\n",
    "agent_worker = FunctionCallingAgentWorker.from_tools(\n",
    "    tool_retriever=obj_retriever,\n",
    "    llm=llm, \n",
    "    system_prompt=\"\"\" \\\n",
    "You are an agent designed to answer queries over a given epidemiology data and documents.\n",
    "Please always use the tools provided to answer a question. Do not rely on prior knowledge.\\\n",
    "\n",
    "\"\"\",\n",
    "    verbose=True\n",
    ")\n",
    "agent = AgentRunner(agent_worker)"
   ]
  },
  {
   "cell_type": "code",
   "execution_count": 12,
   "id": "a250cf1a-e011-4994-bcca-4e0294f20864",
   "metadata": {
    "tags": []
   },
   "outputs": [
    {
     "name": "stdout",
     "output_type": "stream",
     "text": [
      "Added user message to memory: Tell me about the relation between BMI and age How is the income presented in this data? and How can analyze it\n",
      "=== Calling Function ===\n",
      "Calling function: summary_tool_BMX with args: {\"input\": \"relation between BMI and age\"}\n",
      "=== Function Output ===\n",
      "There is a relationship between Body Mass Index (BMI) and age in the dataset provided. The BMI values are recorded for both males and females ranging from 2 years to 150 years. The BMI values are categorized based on age groups, and the BMI measurements are available for analysis across different age ranges as specified in the dataset.\n",
      "=== Calling Function ===\n",
      "Calling function: summary_tool_BMX_B with args: {\"input\": \"income presentation in the data\"}\n",
      "=== Function Output ===\n",
      "Income presentation is not included in the provided data. The data primarily focuses on body measurements and related comments, such as weight, height, circumferences, and skinfold measurements.\n",
      "=== Calling Function ===\n",
      "Calling function: summary_tool_BMX_C with args: {\"input\": \"analyzing income data\"}\n",
      "=== Function Output ===\n",
      "Income data analysis is not covered in the provided context information.\n",
      "=== LLM Response ===\n",
      "1. **Relation between BMI and Age**: The dataset shows a relationship between Body Mass Index (BMI) and age. BMI values are recorded for individuals ranging from 2 to 150 years old, and these values are categorized based on different age groups. This allows for analysis of BMI measurements across various age ranges.\n",
      "\n",
      "2. **Income Presentation**: The dataset does not include information on income. It primarily focuses on body measurements and related comments, such as weight, height, circumferences, and skinfold measurements.\n",
      "\n",
      "3. **Analyzing Income Data**: Since income data is not covered in the provided dataset, there are no specific methods or analyses available for income analysis within this context. \n",
      "\n",
      "If you have any further questions or need additional information, feel free to ask!\n",
      "1. **Relation between BMI and Age**: The dataset shows a relationship between Body Mass Index (BMI) and age. BMI values are recorded for individuals ranging from 2 to 150 years old, and these values are categorized based on different age groups. This allows for analysis of BMI measurements across various age ranges.\n",
      "\n",
      "2. **Income Presentation**: The dataset does not include information on income. It primarily focuses on body measurements and related comments, such as weight, height, circumferences, and skinfold measurements.\n",
      "\n",
      "3. **Analyzing Income Data**: Since income data is not covered in the provided dataset, there are no specific methods or analyses available for income analysis within this context. \n",
      "\n",
      "If you have any further questions or need additional information, feel free to ask!\n"
     ]
    }
   ],
   "source": [
    "response = agent.query(\n",
    "    \"Tell me about the relation between BMI and age \"\n",
    "    \"How is the income presented in this data? and How can analyze it\"\n",
    ")\n",
    "print(str(response))"
   ]
  },
  {
   "cell_type": "code",
   "execution_count": 13,
   "id": "8084c8cb-98ed-4835-aaa4-5b0c7254be6d",
   "metadata": {
    "tags": []
   },
   "outputs": [
    {
     "name": "stdout",
     "output_type": "stream",
     "text": [
      "Added user message to memory: Show me the Pregnancy and Blood pressure. \n",
      "=== Calling Function ===\n",
      "Calling function: summary_tool_BPX with args: {\"input\": \"Pregnancy and Blood Pressure\"}\n",
      "=== Function Output ===\n",
      "Blood pressure measurements are taken on all examinees 8 years and older, regardless of pregnancy status. The data collected includes systolic and diastolic blood pressure readings, pulse measurements, and other related variables. The study does not exclude pregnant individuals from having their blood pressure measured as part of the examination protocol.\n",
      "=== Calling Function ===\n",
      "Calling function: summary_tool_BPX_B with args: {\"input\": \"Pregnancy and Blood Pressure\"}\n",
      "=== Function Output ===\n",
      "Pregnancy status is not explicitly mentioned in the provided context information related to blood pressure measurements. The data and variables discussed focus on blood pressure measurements, pulse rates, and related factors in individuals aged 8 years and older.\n",
      "=== Calling Function ===\n",
      "Calling function: summary_tool_BPX_C with args: {\"input\": \"Pregnancy and Blood Pressure\"}\n",
      "=== Function Output ===\n",
      "Pregnancy status is not explicitly mentioned in the provided context information related to blood pressure measurements. The data and codebook primarily focus on blood pressure measurements, heart rate, pulse, and related factors in individuals ranging from 0 to 150 years old.\n",
      "=== LLM Response ===\n",
      "The information regarding pregnancy and blood pressure is as follows:\n",
      "\n",
      "1. **General Blood Pressure Measurements**: Blood pressure measurements are taken on all examinees aged 8 years and older, regardless of their pregnancy status. This includes systolic and diastolic blood pressure readings, pulse measurements, and other related variables. Pregnant individuals are not excluded from having their blood pressure measured as part of the examination protocol.\n",
      "\n",
      "2. **Pregnancy Status in Data**: The context does not explicitly mention pregnancy status in relation to blood pressure measurements. The focus is primarily on blood pressure measurements, pulse rates, and related factors for individuals aged 8 years and older.\n",
      "\n",
      "3. **Broader Age Range**: The data and codebook also do not explicitly mention pregnancy status. They primarily focus on blood pressure measurements, heart rate, pulse, and related factors for individuals ranging from 0 to 150 years old.\n",
      "\n",
      "In summary, while blood pressure measurements include pregnant individuals, the specific relationship between pregnancy and blood pressure is not detailed in the provided data.\n",
      "The information regarding pregnancy and blood pressure is as follows:\n",
      "\n",
      "1. **General Blood Pressure Measurements**: Blood pressure measurements are taken on all examinees aged 8 years and older, regardless of their pregnancy status. This includes systolic and diastolic blood pressure readings, pulse measurements, and other related variables. Pregnant individuals are not excluded from having their blood pressure measured as part of the examination protocol.\n",
      "\n",
      "2. **Pregnancy Status in Data**: The context does not explicitly mention pregnancy status in relation to blood pressure measurements. The focus is primarily on blood pressure measurements, pulse rates, and related factors for individuals aged 8 years and older.\n",
      "\n",
      "3. **Broader Age Range**: The data and codebook also do not explicitly mention pregnancy status. They primarily focus on blood pressure measurements, heart rate, pulse, and related factors for individuals ranging from 0 to 150 years old.\n",
      "\n",
      "In summary, while blood pressure measurements include pregnant individuals, the specific relationship between pregnancy and blood pressure is not detailed in the provided data.\n"
     ]
    }
   ],
   "source": [
    "response = agent.query(\n",
    "    \"Show me the Pregnancy and Blood pressure. \"\n",
    ")\n",
    "print(str(response))"
   ]
  },
  {
   "cell_type": "code",
   "execution_count": null,
   "id": "254d5d96-b473-4602-89aa-cd11703ebfef",
   "metadata": {},
   "outputs": [],
   "source": []
  },
  {
   "cell_type": "code",
   "execution_count": null,
   "id": "0990b36d-de3c-4d86-9220-db0f5374ebe2",
   "metadata": {},
   "outputs": [],
   "source": []
  }
 ],
 "metadata": {
  "kernelspec": {
   "display_name": "Python 3 (ipykernel)",
   "language": "python",
   "name": "python3"
  },
  "language_info": {
   "codemirror_mode": {
    "name": "ipython",
    "version": 3
   },
   "file_extension": ".py",
   "mimetype": "text/x-python",
   "name": "python",
   "nbconvert_exporter": "python",
   "pygments_lexer": "ipython3",
   "version": "3.11.9"
  }
 },
 "nbformat": 4,
 "nbformat_minor": 5
}
