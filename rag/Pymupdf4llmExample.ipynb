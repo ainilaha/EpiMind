{
 "cells": [
  {
   "cell_type": "code",
   "execution_count": 1,
   "id": "b888fb64-f8b5-4b37-849e-d235899eabfa",
   "metadata": {},
   "outputs": [
    {
     "name": "stdout",
     "output_type": "stream",
     "text": [
      "Collecting pymupdf4llm\n",
      "  Downloading pymupdf4llm-0.0.17-py3-none-any.whl.metadata (4.1 kB)\n",
      "Collecting pymupdf>=1.24.10 (from pymupdf4llm)\n",
      "  Downloading PyMuPDF-1.24.13-cp39-abi3-macosx_11_0_arm64.whl.metadata (3.4 kB)\n",
      "Downloading pymupdf4llm-0.0.17-py3-none-any.whl (26 kB)\n",
      "Downloading PyMuPDF-1.24.13-cp39-abi3-macosx_11_0_arm64.whl (18.4 MB)\n",
      "\u001b[2K   \u001b[90m━━━━━━━━━━━━━━━━━━━━━━━━━━━━━━━━━━━━━━━━\u001b[0m \u001b[32m18.4/18.4 MB\u001b[0m \u001b[31m47.8 MB/s\u001b[0m eta \u001b[36m0:00:00\u001b[0ma \u001b[36m0:00:01\u001b[0m\n",
      "\u001b[?25hInstalling collected packages: pymupdf, pymupdf4llm\n",
      "  Attempting uninstall: pymupdf\n",
      "    Found existing installation: PyMuPDF 1.24.3\n",
      "    Uninstalling PyMuPDF-1.24.3:\n",
      "      Successfully uninstalled PyMuPDF-1.24.3\n",
      "Successfully installed pymupdf-1.24.13 pymupdf4llm-0.0.17\n",
      "Note: you may need to restart the kernel to use updated packages.\n"
     ]
    }
   ],
   "source": [
    "# pip install pymupdf4llm\n",
    "# https://pymupdf.readthedocs.io/en/latest/pymupdf4llm/"
   ]
  },
  {
   "cell_type": "code",
   "execution_count": 9,
   "id": "605ff795-58f6-4706-8e6f-df2f13adcf97",
   "metadata": {},
   "outputs": [],
   "source": [
    "os.chdir('/Users/robert/Projects/EpiMind')"
   ]
  },
  {
   "cell_type": "code",
   "execution_count": 11,
   "id": "843a49e7-2931-4bcc-938f-34ecb18f120b",
   "metadata": {},
   "outputs": [],
   "source": [
    "import pymupdf4llm\n",
    "import pathlib"
   ]
  },
  {
   "cell_type": "code",
   "execution_count": 12,
   "id": "e26b425f-7ed6-4b21-aa2d-788cc80a239e",
   "metadata": {},
   "outputs": [
    {
     "name": "stdout",
     "output_type": "stream",
     "text": [
      "Processing TransformersandBeyond.pdf...\n",
      "[                                        ] (0/3[=                                       ] ( 1/3[==                                      ] ( 2/33[===                                     ] ( 3/3[====                                    ] ( 4/33=[======                                  ] ( 5/33[=======                                 ] ( 6/3[========                                ] ( 7/33[=========                               ] ( 8/3[==========                              ] ( 9/33=[============                            ] (10/33[=============                           ] (11/3[==============                          ] (12/33[===============                         ] (13/3[================                        ] (14/33=[==================                      ] (15/33[===================                     ] (16/3[====================                    ] (17/33[=====================                   ] (18/3=[=======================                 ] (19/3[========================                ] (20/33[=========================               ] (21/3[==========================              ] (22/33[===========================             ] (23/3=[=============================           ] (24/3[==============================          ] (25/33[===============================         ] (26/3[================================        ] (27/33[=================================       ] (28/3=[===================================     ] (29/3[====================================    ] (30/33[=====================================   ] (31/3[======================================  ] (32/33=[========================================] (33/33]\n"
     ]
    },
    {
     "data": {
      "text/plain": [
       "159635"
      ]
     },
     "execution_count": 12,
     "metadata": {},
     "output_type": "execute_result"
    }
   ],
   "source": [
    "md_text = pymupdf4llm.to_markdown(\"TransformersandBeyond.pdf\", write_images=True, image_path='test/Transformers')\n",
    "\n",
    "pathlib.Path(\"LLMProtein.md\").write_bytes(md_text.encode())\n",
    "#print(md_text)"
   ]
  },
  {
   "cell_type": "code",
   "execution_count": null,
   "id": "9d8470dd-df9d-4abd-ad3f-a8c1607e4f72",
   "metadata": {},
   "outputs": [],
   "source": []
  }
 ],
 "metadata": {
  "kernelspec": {
   "display_name": "Python 3 (ipykernel)",
   "language": "python",
   "name": "python3"
  },
  "language_info": {
   "codemirror_mode": {
    "name": "ipython",
    "version": 3
   },
   "file_extension": ".py",
   "mimetype": "text/x-python",
   "name": "python",
   "nbconvert_exporter": "python",
   "pygments_lexer": "ipython3",
   "version": "3.12.1"
  }
 },
 "nbformat": 4,
 "nbformat_minor": 5
}
